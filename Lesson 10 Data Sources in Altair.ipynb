{
 "cells": [
  {
   "cell_type": "markdown",
   "metadata": {
    "editable": true,
    "slideshow": {
     "slide_type": ""
    },
    "tags": []
   },
   "source": [
    "**SA433 &#x25aa; Data Wrangling and Visualization &#x25aa; Fall 2024**"
   ]
  },
  {
   "cell_type": "markdown",
   "metadata": {
    "editable": true,
    "slideshow": {
     "slide_type": ""
    },
    "tags": []
   },
   "source": [
    "# Lesson 10. Data Sources in Altair"
   ]
  },
  {
   "cell_type": "markdown",
   "metadata": {
    "colab_type": "text",
    "editable": true,
    "id": "s-_LXMfxPYNn",
    "slideshow": {
     "slide_type": ""
    },
    "tags": []
   },
   "source": [
    "## In this lesson..."
   ]
  },
  {
   "cell_type": "markdown",
   "metadata": {
    "editable": true,
    "slideshow": {
     "slide_type": ""
    },
    "tags": []
   },
   "source": [
    "- This lesson is a brief interlude of sorts\n",
    "\n",
    "\n",
    "- So far in this course, we have always specified data for a Chart object as a Pandas DataFrame\n",
    "\n",
    "\n",
    "- This works well, but there are caveats we need to be aware of, especially as we work with larger datasets\n",
    "\n",
    "\n",
    "- We'll also learn about another useful way to specify data in Altair"
   ]
  },
  {
   "cell_type": "markdown",
   "metadata": {
    "editable": true,
    "slideshow": {
     "slide_type": ""
    },
    "tags": []
   },
   "source": [
    "<hr style=\"border-top: 2px solid gray; margin-top: 1px; margin-bottom: 1px\"></hr>"
   ]
  },
  {
   "cell_type": "markdown",
   "metadata": {
    "editable": true,
    "slideshow": {
     "slide_type": ""
    },
    "tags": []
   },
   "source": [
    "## Working with datasets with large numbers of rows"
   ]
  },
  {
   "cell_type": "markdown",
   "metadata": {
    "editable": true,
    "slideshow": {
     "slide_type": ""
    },
    "tags": []
   },
   "source": [
    "- We'll begin with an example\n",
    "\n",
    "\n",
    "- Let's start by importing Pandas and Altair:"
   ]
  },
  {
   "cell_type": "code",
   "execution_count": null,
   "metadata": {
    "editable": true,
    "slideshow": {
     "slide_type": ""
    },
    "tags": []
   },
   "outputs": [],
   "source": [
    "import pandas as pd\n",
    "import altair as alt"
   ]
  },
  {
   "cell_type": "markdown",
   "metadata": {
    "editable": true,
    "slideshow": {
     "slide_type": ""
    },
    "tags": []
   },
   "source": [
    "- In the same folder as this notebook, there is a CSV file `data/sp500-2008-only.csv`, containing S&P 500 index values for every trading day in the year 2008, retrieved from Yahoo Finance [(link to secondary source)](https://github.com/vega/vega-datasets)\n",
    "\n",
    "\n",
    "- Let's load the dataset and take a look:"
   ]
  },
  {
   "cell_type": "code",
   "execution_count": null,
   "metadata": {
    "editable": true,
    "slideshow": {
     "slide_type": ""
    },
    "tags": []
   },
   "outputs": [],
   "source": [
    "sp500_2008_df = pd.read_csv('data/sp500-2008-only.csv')\n",
    "sp500_2008_df.head()"
   ]
  },
  {
   "cell_type": "markdown",
   "metadata": {
    "editable": true,
    "slideshow": {
     "slide_type": ""
    },
    "tags": []
   },
   "source": [
    "- For each `date`, we have:\n",
    "    - the opening value of the S&P 500 (`open`),\n",
    "    - the high value (`high`),\n",
    "    - the low value (`low`),\n",
    "    - the closing value (`close`),\n",
    "    - the adjusted closing value (`adjclose`), and\n",
    "    - the trading volume (`volume`)"
   ]
  },
  {
   "cell_type": "markdown",
   "metadata": {
    "editable": true,
    "slideshow": {
     "slide_type": ""
    },
    "tags": []
   },
   "source": [
    "❓ **Exercise 1.**\n",
    "Create a line chart showing the closing value of the S&P 500 for each day in the year 2008. Layer your chart with an area chart showing the low and high values of the S&P 500. Make your chart interactive by enabling pan-and-zoom. You should end up with something that looks like this:"
   ]
  },
  {
   "cell_type": "markdown",
   "metadata": {
    "editable": true,
    "slideshow": {
     "slide_type": ""
    },
    "tags": []
   },
   "source": [
    "![](img/sp500_2008.svg)"
   ]
  },
  {
   "cell_type": "code",
   "execution_count": null,
   "metadata": {
    "editable": true,
    "slideshow": {
     "slide_type": ""
    },
    "tags": []
   },
   "outputs": [],
   "source": []
  },
  {
   "cell_type": "markdown",
   "metadata": {
    "editable": true,
    "slideshow": {
     "slide_type": ""
    },
    "tags": []
   },
   "source": [
    "- What if we want to look at a longer time horizon?\n",
    "\n",
    "\n",
    "- There is another CSV file `data/sp500-2000.csv` in the same folder as this notebook that contains the same kind of data as `data/sp500-2008-only.csv`, except for the years 2000 to 2020\n",
    "\n",
    "\n",
    "- Let's load this larger CSV file into a DataFrame and take a look: "
   ]
  },
  {
   "cell_type": "code",
   "execution_count": null,
   "metadata": {
    "editable": true,
    "slideshow": {
     "slide_type": ""
    },
    "tags": []
   },
   "outputs": [],
   "source": [
    "sp500_df = pd.read_csv('data/sp500-2000.csv')\n",
    "sp500_df.head()"
   ]
  },
  {
   "cell_type": "markdown",
   "metadata": {
    "editable": true,
    "slideshow": {
     "slide_type": ""
    },
    "tags": []
   },
   "source": [
    "- We can modify our code for Exercise 1 to create the same kind of chart, but now for years 2000 to 2020:"
   ]
  },
  {
   "cell_type": "code",
   "execution_count": null,
   "metadata": {
    "editable": true,
    "slideshow": {
     "slide_type": ""
    },
    "tags": []
   },
   "outputs": [],
   "source": []
  },
  {
   "cell_type": "markdown",
   "metadata": {
    "editable": true,
    "slideshow": {
     "slide_type": ""
    },
    "tags": []
   },
   "source": [
    "- Wait, what happened? 🤨\n",
    "\n",
    "- Looking carefully at the end of the error message, we see that we've run into the `MaxRowsError`:\n",
    "    ```\n",
    "    MaxRowsError: The number of rows in your dataset is greater than the maximum allowed (5000).\n",
    "    ```\n",
    "    <br>\n",
    "\n",
    "- What's going on here?"
   ]
  },
  {
   "cell_type": "markdown",
   "metadata": {
    "editable": true,
    "slideshow": {
     "slide_type": ""
    },
    "tags": []
   },
   "source": [
    "- When we give a Chart object a DataFrame, it embeds the _entire dataset_ within the Chart object\n",
    "    - This can lead to very large charts (in terms of memory/storage) and in turn, very large notebooks<br><br>"
   ]
  },
  {
   "cell_type": "markdown",
   "metadata": {
    "editable": true,
    "slideshow": {
     "slide_type": ""
    },
    "tags": []
   },
   "source": [
    "- Altair tries to prevent us from doing this...\n",
    "\n",
    "- By default, if you try to create a Chart with a DataFrame that has more than 5000 rows, you will get an error"
   ]
  },
  {
   "cell_type": "markdown",
   "metadata": {
    "editable": true,
    "slideshow": {
     "slide_type": ""
    },
    "tags": []
   },
   "source": [
    "- We can circumvent the `MaxRowsError` by having Altair use [VegaFusion](https://vegafusion.io/)\n",
    "\n",
    "- In particular, VegaFusion aggregates and prunes the source dataset before feeding it into Altair, allowing visualizations of larger datasets to be embedded in Chart objects\n",
    "\n",
    "- To use VegaFusion, we can enable the VegaFusion data transformer:"
   ]
  },
  {
   "cell_type": "code",
   "execution_count": null,
   "metadata": {
    "editable": true,
    "slideshow": {
     "slide_type": ""
    },
    "tags": []
   },
   "outputs": [],
   "source": []
  },
  {
   "cell_type": "markdown",
   "metadata": {
    "editable": true,
    "slideshow": {
     "slide_type": ""
    },
    "tags": []
   },
   "source": [
    "- Now let's copy and paste our modified Exercise 1 code from above and see if we can get things working:"
   ]
  },
  {
   "cell_type": "code",
   "execution_count": null,
   "metadata": {
    "editable": true,
    "slideshow": {
     "slide_type": ""
    },
    "tags": []
   },
   "outputs": [],
   "source": []
  },
  {
   "cell_type": "markdown",
   "metadata": {
    "editable": true,
    "slideshow": {
     "slide_type": ""
    },
    "tags": []
   },
   "source": [
    "- VegaFusion can only do so much aggregation and pruning if the dataset is sufficiently large"
   ]
  },
  {
   "cell_type": "markdown",
   "metadata": {
    "editable": true,
    "slideshow": {
     "slide_type": ""
    },
    "tags": []
   },
   "source": [
    "- The VegaFusion data transformer still has a row limit &ndash; by default, it is set to 100,000\n",
    "    - This row limit is applied _after_ all supported data transformations have been applied"
   ]
  },
  {
   "cell_type": "markdown",
   "metadata": {
    "editable": true,
    "slideshow": {
     "slide_type": ""
    },
    "tags": []
   },
   "source": [
    "- See the [Altair documentation on large datasets](https://altair-viz.github.io/user_guide/large_datasets.html) for workarounds if you hit the VegaFusion row limit"
   ]
  },
  {
   "cell_type": "markdown",
   "metadata": {
    "editable": true,
    "slideshow": {
     "slide_type": ""
    },
    "tags": []
   },
   "source": [
    "<hr style=\"border-top: 2px solid gray; margin-top: 1px; margin-bottom: 1px\"></hr>"
   ]
  },
  {
   "cell_type": "markdown",
   "metadata": {
    "editable": true,
    "slideshow": {
     "slide_type": ""
    },
    "tags": []
   },
   "source": [
    "## URL strings"
   ]
  },
  {
   "cell_type": "markdown",
   "metadata": {
    "editable": true,
    "slideshow": {
     "slide_type": ""
    },
    "tags": []
   },
   "source": [
    "- Instead of a Pandas DataFrame, we can give a Chart object a __URL string__ pointing to a CSV or JSON file\n",
    "\n",
    "\n",
    "- Recall that a __uniform resource locator (URL)__ points to a resource by specifying its location on a computer network and a mechanism for retrieving it\n",
    "\n",
    "\n",
    "- Giving Altair a URL instead of a DataFrame is another way to circumvent the `MaxRowsError`\n",
    "\n",
    "\n",
    "- URLs can point to files on the web, or they can point to files locally on your machine\n",
    "\n",
    "\n",
    "- Using *local* URLs with Altair can be tricky...\n",
    "\n",
    "\n",
    "- However, using *web* URLs with Altair is easy, as long as your computer has access to the internet\n",
    "\n",
    "\n",
    "- For example, the S&P 500 dataset we used above actually lives in the cloud here: \n",
    "\n",
    "    https://vega.github.io/vega-datasets/data/sp500-2000.csv\n",
    "    "
   ]
  },
  {
   "cell_type": "markdown",
   "metadata": {
    "editable": true,
    "slideshow": {
     "slide_type": ""
    },
    "tags": []
   },
   "source": [
    "- First, let's disable the VegaFusion data transformer, just to see that we don't need it for data located at web URLs:"
   ]
  },
  {
   "cell_type": "code",
   "execution_count": null,
   "metadata": {
    "editable": true,
    "slideshow": {
     "slide_type": ""
    },
    "tags": []
   },
   "outputs": [],
   "source": [
    "alt.data_transformers.enable('default')"
   ]
  },
  {
   "cell_type": "markdown",
   "metadata": {
    "editable": true,
    "slideshow": {
     "slide_type": ""
    },
    "tags": []
   },
   "source": [
    "- Now, we can pass this web URL directly to a Chart object like this:"
   ]
  },
  {
   "cell_type": "code",
   "execution_count": null,
   "metadata": {
    "editable": true,
    "slideshow": {
     "slide_type": ""
    },
    "tags": []
   },
   "outputs": [],
   "source": [
    "sp500_url = 'https://vega.github.io/vega-datasets/data/sp500-2000.csv'"
   ]
  },
  {
   "cell_type": "code",
   "execution_count": null,
   "metadata": {
    "editable": true,
    "slideshow": {
     "slide_type": ""
    },
    "tags": []
   },
   "outputs": [],
   "source": [
    "line = alt.Chart(...).mark_line().encode(\n",
    "    alt.X('date:T'),\n",
    "    alt.Y('close:Q')\n",
    ")\n",
    "\n",
    "area = alt.Chart(...).mark_area(\n",
    "    opacity=0.2, color='red'\n",
    ").encode(\n",
    "    alt.X('date:T'),\n",
    "    alt.Y('low:Q'),\n",
    "    alt.Y2('high:Q')\n",
    ")\n",
    "\n",
    "(line + area).properties(\n",
    "    width=600,\n",
    "    height=300\n",
    ").interactive()"
   ]
  },
  {
   "cell_type": "markdown",
   "metadata": {
    "editable": true,
    "slideshow": {
     "slide_type": ""
    },
    "tags": []
   },
   "source": [
    "<hr style=\"border-top: 2px solid gray; margin-top: 1px; margin-bottom: 1px\"></hr>"
   ]
  },
  {
   "cell_type": "markdown",
   "metadata": {
    "editable": true,
    "slideshow": {
     "slide_type": ""
    },
    "tags": []
   },
   "source": [
    "## What's next?"
   ]
  },
  {
   "cell_type": "markdown",
   "metadata": {
    "editable": true,
    "slideshow": {
     "slide_type": ""
    },
    "tags": []
   },
   "source": [
    "- Our next lesson will be our last lesson exclusively on data visualization: how to create visualizations that involve *geographical* data"
   ]
  },
  {
   "cell_type": "markdown",
   "metadata": {
    "editable": true,
    "slideshow": {
     "slide_type": ""
    },
    "tags": []
   },
   "source": [
    "- We will be using what we learned in this lesson extensively: \n",
    "    - how to get Altair to work with large datasets \n",
    "    - how to get Altair to work with datasets on the web"
   ]
  },
  {
   "cell_type": "markdown",
   "metadata": {
    "editable": true,
    "slideshow": {
     "slide_type": ""
    },
    "tags": []
   },
   "source": [
    "<hr style=\"border-top: 2px solid gray; margin-top: 1px; margin-bottom: 1px\"></hr>"
   ]
  },
  {
   "cell_type": "markdown",
   "metadata": {
    "editable": true,
    "slideshow": {
     "slide_type": ""
    },
    "tags": []
   },
   "source": [
    "## Notes and sources"
   ]
  },
  {
   "cell_type": "markdown",
   "metadata": {
    "editable": true,
    "slideshow": {
     "slide_type": ""
    },
    "tags": []
   },
   "source": [
    "- [Altair documentation on large datasets](https://altair-viz.github.io/user_guide/large_datasets.html)\n",
    "- [VegaFusion documentation](https://vegafusion.io/index.html)"
   ]
  }
 ],
 "metadata": {
  "kernelspec": {
   "display_name": "Python 3 (ipykernel)",
   "language": "python",
   "name": "python3"
  },
  "language_info": {
   "codemirror_mode": {
    "name": "ipython",
    "version": 3
   },
   "file_extension": ".py",
   "mimetype": "text/x-python",
   "name": "python",
   "nbconvert_exporter": "python",
   "pygments_lexer": "ipython3",
   "version": "3.11.6"
  }
 },
 "nbformat": 4,
 "nbformat_minor": 4
}
